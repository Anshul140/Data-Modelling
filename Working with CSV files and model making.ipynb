{
 "cells": [
  {
   "cell_type": "code",
   "execution_count": 1,
   "id": "7708bf06",
   "metadata": {},
   "outputs": [],
   "source": [
    "import psycopg2\n",
    "import pandas as pd"
   ]
  },
  {
   "cell_type": "code",
   "execution_count": 2,
   "id": "081e9593",
   "metadata": {},
   "outputs": [],
   "source": [
    "def create_database():\n",
    "    # connect to default database\n",
    "    conn = psycopg2.connect(\"host=127.0.0.1 dbname=postgres user=postgres password=Anshul@61\")\n",
    "    conn.set_session(autocommit=True)\n",
    "    cur = conn.cursor()\n",
    "    \n",
    "    # create sparkify database with UTF8 encoding\n",
    "    cur.execute(\"DROP DATABASE IF EXISTS population_data\")\n",
    "    cur.execute(\"CREATE DATABASE population_data\")\n",
    "    \n",
    "    # close connection with default DB\n",
    "    conn.close()\n",
    "    \n",
    "    # connect to sparkify DB\n",
    "    conn = psycopg2.connect(\"host=127.0.0.1 dbname=population_data user=postgres password=Anshul@61\")\n",
    "    cur = conn.cursor()\n",
    "    \n",
    "    return cur, conn"
   ]
  },
  {
   "cell_type": "code",
   "execution_count": 3,
   "id": "bf4b4a7f",
   "metadata": {},
   "outputs": [],
   "source": [
    "def drop_tables(cur, conn):\n",
    "    for query in drop_table_queries:\n",
    "        cur.execute(query)\n",
    "        conn.commit()"
   ]
  },
  {
   "cell_type": "code",
   "execution_count": 4,
   "id": "62b1d78d",
   "metadata": {},
   "outputs": [],
   "source": [
    "def create_tables(cur, conn):\n",
    "    for query in create_table_queries:\n",
    "        cur.execute(query)\n",
    "        conn.commit()"
   ]
  },
  {
   "cell_type": "code",
   "execution_count": 5,
   "id": "200260dc",
   "metadata": {},
   "outputs": [
    {
     "data": {
      "text/html": [
       "<div>\n",
       "<style scoped>\n",
       "    .dataframe tbody tr th:only-of-type {\n",
       "        vertical-align: middle;\n",
       "    }\n",
       "\n",
       "    .dataframe tbody tr th {\n",
       "        vertical-align: top;\n",
       "    }\n",
       "\n",
       "    .dataframe thead th {\n",
       "        text-align: right;\n",
       "    }\n",
       "</style>\n",
       "<table border=\"1\" class=\"dataframe\">\n",
       "  <thead>\n",
       "    <tr style=\"text-align: right;\">\n",
       "      <th></th>\n",
       "      <th>country</th>\n",
       "      <th>female_height</th>\n",
       "      <th>male_height</th>\n",
       "      <th>female_weight</th>\n",
       "      <th>male_weight</th>\n",
       "    </tr>\n",
       "  </thead>\n",
       "  <tbody>\n",
       "    <tr>\n",
       "      <th>0</th>\n",
       "      <td>Netherlands</td>\n",
       "      <td>170</td>\n",
       "      <td>184</td>\n",
       "      <td>73.2</td>\n",
       "      <td>87.9</td>\n",
       "    </tr>\n",
       "    <tr>\n",
       "      <th>1</th>\n",
       "      <td>Montenegro</td>\n",
       "      <td>170</td>\n",
       "      <td>183</td>\n",
       "      <td>75.3</td>\n",
       "      <td>90.4</td>\n",
       "    </tr>\n",
       "    <tr>\n",
       "      <th>2</th>\n",
       "      <td>Estonia</td>\n",
       "      <td>168</td>\n",
       "      <td>182</td>\n",
       "      <td>73.7</td>\n",
       "      <td>89.9</td>\n",
       "    </tr>\n",
       "    <tr>\n",
       "      <th>3</th>\n",
       "      <td>Denmark</td>\n",
       "      <td>169</td>\n",
       "      <td>182</td>\n",
       "      <td>70.2</td>\n",
       "      <td>86.8</td>\n",
       "    </tr>\n",
       "    <tr>\n",
       "      <th>4</th>\n",
       "      <td>Bosnia and Herzegovina</td>\n",
       "      <td>167</td>\n",
       "      <td>182</td>\n",
       "      <td>70.6</td>\n",
       "      <td>87.1</td>\n",
       "    </tr>\n",
       "  </tbody>\n",
       "</table>\n",
       "</div>"
      ],
      "text/plain": [
       "                  country  female_height  male_height  female_weight  \\\n",
       "0             Netherlands            170          184           73.2   \n",
       "1              Montenegro            170          183           75.3   \n",
       "2                 Estonia            168          182           73.7   \n",
       "3                 Denmark            169          182           70.2   \n",
       "4  Bosnia and Herzegovina            167          182           70.6   \n",
       "\n",
       "   male_weight  \n",
       "0         87.9  \n",
       "1         90.4  \n",
       "2         89.9  \n",
       "3         86.8  \n",
       "4         87.1  "
      ]
     },
     "execution_count": 5,
     "metadata": {},
     "output_type": "execute_result"
    }
   ],
   "source": [
    "height_weight = pd.read_csv(\"height_weight_data.csv\")\n",
    "height_weight_clean = height_weight[['country', 'female_height', 'male_height', 'female_weight', 'male_weight']]\n",
    "height_weight_clean.head()"
   ]
  },
  {
   "cell_type": "code",
   "execution_count": 45,
   "id": "3c865585",
   "metadata": {},
   "outputs": [
    {
     "name": "stderr",
     "output_type": "stream",
     "text": [
      "C:\\Users\\USER\\AppData\\Local\\Temp\\ipykernel_10244\\2693341349.py:5: SettingWithCopyWarning: \n",
      "A value is trying to be set on a copy of a slice from a DataFrame\n",
      "\n",
      "See the caveats in the documentation: https://pandas.pydata.org/pandas-docs/stable/user_guide/indexing.html#returning-a-view-versus-a-copy\n",
      "  iq_data['education_expenditure_per_inhabitant'][ind] = iq_data['education_expenditure_per_inhabitant'][ind].replace(',', \"\")\n"
     ]
    },
    {
     "data": {
      "text/html": [
       "<div>\n",
       "<style scoped>\n",
       "    .dataframe tbody tr th:only-of-type {\n",
       "        vertical-align: middle;\n",
       "    }\n",
       "\n",
       "    .dataframe tbody tr th {\n",
       "        vertical-align: top;\n",
       "    }\n",
       "\n",
       "    .dataframe thead th {\n",
       "        text-align: right;\n",
       "    }\n",
       "</style>\n",
       "<table border=\"1\" class=\"dataframe\">\n",
       "  <thead>\n",
       "    <tr style=\"text-align: right;\">\n",
       "      <th></th>\n",
       "      <th>country</th>\n",
       "      <th>iq</th>\n",
       "      <th>education_expenditure_per_inhabitant</th>\n",
       "      <th>daily_max_temp</th>\n",
       "    </tr>\n",
       "  </thead>\n",
       "  <tbody>\n",
       "    <tr>\n",
       "      <th>0</th>\n",
       "      <td>Singapore</td>\n",
       "      <td>108</td>\n",
       "      <td>908</td>\n",
       "      <td>31.5</td>\n",
       "    </tr>\n",
       "    <tr>\n",
       "      <th>1</th>\n",
       "      <td>Hong Kong</td>\n",
       "      <td>108</td>\n",
       "      <td>915</td>\n",
       "      <td>26.2</td>\n",
       "    </tr>\n",
       "    <tr>\n",
       "      <th>3</th>\n",
       "      <td>South Korea</td>\n",
       "      <td>106</td>\n",
       "      <td>537</td>\n",
       "      <td>18.2</td>\n",
       "    </tr>\n",
       "    <tr>\n",
       "      <th>4</th>\n",
       "      <td>Japan</td>\n",
       "      <td>105</td>\n",
       "      <td>1258</td>\n",
       "      <td>19.2</td>\n",
       "    </tr>\n",
       "    <tr>\n",
       "      <th>5</th>\n",
       "      <td>China</td>\n",
       "      <td>104</td>\n",
       "      <td>27</td>\n",
       "      <td>19.0</td>\n",
       "    </tr>\n",
       "  </tbody>\n",
       "</table>\n",
       "</div>"
      ],
      "text/plain": [
       "       country   iq education_expenditure_per_inhabitant  daily_max_temp\n",
       "0    Singapore  108                                  908            31.5\n",
       "1    Hong Kong  108                                  915            26.2\n",
       "3  South Korea  106                                  537            18.2\n",
       "4        Japan  105                                 1258            19.2\n",
       "5        China  104                                   27            19.0"
      ]
     },
     "execution_count": 45,
     "metadata": {},
     "output_type": "execute_result"
    }
   ],
   "source": [
    "iq_data = pd.read_csv(\"iq.csv\")\n",
    "iq_data = iq_data[iq_data['education_expenditure_per_inhabitant'].notna()]\n",
    "for ind in iq_data.index:\n",
    "    if \",\" in iq_data['education_expenditure_per_inhabitant'][ind]:\n",
    "        iq_data['education_expenditure_per_inhabitant'][ind] = iq_data['education_expenditure_per_inhabitant'][ind].replace(',', \"\")\n",
    "        # print(iq_data['education_expenditure_per_inhabitant'][ind])\n",
    "iq_data.head()"
   ]
  },
  {
   "cell_type": "code",
   "execution_count": 7,
   "id": "00a966a7",
   "metadata": {},
   "outputs": [
    {
     "data": {
      "text/html": [
       "<div>\n",
       "<style scoped>\n",
       "    .dataframe tbody tr th:only-of-type {\n",
       "        vertical-align: middle;\n",
       "    }\n",
       "\n",
       "    .dataframe tbody tr th {\n",
       "        vertical-align: top;\n",
       "    }\n",
       "\n",
       "    .dataframe thead th {\n",
       "        text-align: right;\n",
       "    }\n",
       "</style>\n",
       "<table border=\"1\" class=\"dataframe\">\n",
       "  <thead>\n",
       "    <tr style=\"text-align: right;\">\n",
       "      <th></th>\n",
       "      <th>country</th>\n",
       "      <th>male_life_expectancy</th>\n",
       "      <th>female_life_expectancy</th>\n",
       "      <th>birth_rate</th>\n",
       "      <th>death_rate</th>\n",
       "    </tr>\n",
       "  </thead>\n",
       "  <tbody>\n",
       "    <tr>\n",
       "      <th>0</th>\n",
       "      <td>Hong Kong</td>\n",
       "      <td>82.9</td>\n",
       "      <td>88.0</td>\n",
       "      <td>5.8</td>\n",
       "      <td>6.8</td>\n",
       "    </tr>\n",
       "    <tr>\n",
       "      <th>1</th>\n",
       "      <td>Iceland</td>\n",
       "      <td>81.7</td>\n",
       "      <td>84.5</td>\n",
       "      <td>12.3</td>\n",
       "      <td>7.8</td>\n",
       "    </tr>\n",
       "    <tr>\n",
       "      <th>2</th>\n",
       "      <td>Japan</td>\n",
       "      <td>81.6</td>\n",
       "      <td>87.7</td>\n",
       "      <td>6.8</td>\n",
       "      <td>8.8</td>\n",
       "    </tr>\n",
       "    <tr>\n",
       "      <th>3</th>\n",
       "      <td>Norway</td>\n",
       "      <td>81.6</td>\n",
       "      <td>84.9</td>\n",
       "      <td>9.8</td>\n",
       "      <td>9.8</td>\n",
       "    </tr>\n",
       "    <tr>\n",
       "      <th>4</th>\n",
       "      <td>Singapore</td>\n",
       "      <td>81.5</td>\n",
       "      <td>86.1</td>\n",
       "      <td>8.5</td>\n",
       "      <td>10.8</td>\n",
       "    </tr>\n",
       "  </tbody>\n",
       "</table>\n",
       "</div>"
      ],
      "text/plain": [
       "     country  male_life_expectancy  female_life_expectancy  birth_rate  \\\n",
       "0  Hong Kong                  82.9                    88.0         5.8   \n",
       "1    Iceland                  81.7                    84.5        12.3   \n",
       "2      Japan                  81.6                    87.7         6.8   \n",
       "3     Norway                  81.6                    84.9         9.8   \n",
       "4  Singapore                  81.5                    86.1         8.5   \n",
       "\n",
       "   death_rate  \n",
       "0         6.8  \n",
       "1         7.8  \n",
       "2         8.8  \n",
       "3         9.8  \n",
       "4        10.8  "
      ]
     },
     "execution_count": 7,
     "metadata": {},
     "output_type": "execute_result"
    }
   ],
   "source": [
    "life_expectancy = pd.read_csv(\"life_expectancy.csv\")\n",
    "life_expectancy.head()"
   ]
  },
  {
   "cell_type": "code",
   "execution_count": 9,
   "id": "74afc813",
   "metadata": {},
   "outputs": [],
   "source": [
    "cur, conn = create_database()"
   ]
  },
  {
   "cell_type": "code",
   "execution_count": 10,
   "id": "0443d804",
   "metadata": {},
   "outputs": [],
   "source": [
    "height_weight_tableCreate = (\"\"\"CREATE TABLE IF NOT EXISTS heightWeight(\n",
    "country VARCHAR PRIMARY KEY,\n",
    "female_height INT,\n",
    "male_height INT,\n",
    "female_weight FLOAT(2),\n",
    "male_weight FLOAT(2)\n",
    ")\"\"\")"
   ]
  },
  {
   "cell_type": "code",
   "execution_count": 11,
   "id": "b532c7b7",
   "metadata": {},
   "outputs": [],
   "source": [
    "cur.execute(height_weight_tableCreate)\n",
    "conn.commit()"
   ]
  },
  {
   "cell_type": "code",
   "execution_count": 12,
   "id": "9e3faca7",
   "metadata": {},
   "outputs": [],
   "source": [
    "iq_tableCreate = (\"\"\"CREATE TABLE IF NOT EXISTS iqdata(\n",
    "country VARCHAR PRIMARY KEY,\n",
    "iq INT,\n",
    "education_expenditure_per_inhabitant INT,\n",
    "daily_max_temp FLOAT(2)\n",
    ")\"\"\")"
   ]
  },
  {
   "cell_type": "code",
   "execution_count": 13,
   "id": "f2cbf549",
   "metadata": {},
   "outputs": [],
   "source": [
    "cur.execute(iq_tableCreate)\n",
    "conn.commit()"
   ]
  },
  {
   "cell_type": "code",
   "execution_count": 14,
   "id": "ce360abf",
   "metadata": {},
   "outputs": [],
   "source": [
    "life_expectancy_tableCreate = (\"\"\"CREATE TABLE IF NOT EXISTS lifeExpectancy(\n",
    "country VARCHAR PRIMARY KEY,\n",
    "male_life_expectancy FLOAT(2),\n",
    "female_life_expectancy FLOAT(2),\n",
    "birth_rate FLOAT(2),\n",
    "death_rate FLOAT(2)\n",
    ")\"\"\")"
   ]
  },
  {
   "cell_type": "code",
   "execution_count": 15,
   "id": "2381d0a9",
   "metadata": {},
   "outputs": [],
   "source": [
    "cur.execute(life_expectancy_tableCreate)\n",
    "conn.commit()"
   ]
  },
  {
   "cell_type": "code",
   "execution_count": 17,
   "id": "a251503b",
   "metadata": {},
   "outputs": [],
   "source": [
    "height_weight_tableInsert = (\"\"\"INSERT INTO heightweight(\n",
    "country,\n",
    "female_height,\n",
    "male_height,\n",
    "female_weight,\n",
    "male_weight)\n",
    "VALUES(%s, %s, %s, %s, %s)\n",
    "\"\"\")"
   ]
  },
  {
   "cell_type": "code",
   "execution_count": 18,
   "id": "7b9feb4b",
   "metadata": {},
   "outputs": [],
   "source": [
    "for i, row in height_weight_clean.iterrows():\n",
    "    cur.execute(height_weight_tableInsert, list(row))"
   ]
  },
  {
   "cell_type": "code",
   "execution_count": 19,
   "id": "f02ca924",
   "metadata": {},
   "outputs": [],
   "source": [
    "conn.commit()"
   ]
  },
  {
   "cell_type": "code",
   "execution_count": 26,
   "id": "dae11097",
   "metadata": {},
   "outputs": [],
   "source": [
    "iq_tableInsert = (\"\"\"INSERT INTO iqdata(\n",
    "country,\n",
    "iq,\n",
    "education_expenditure_per_inhabitant,\n",
    "daily_max_temp)\n",
    "VALUES(%s, %s, %s, %s)\n",
    "\"\"\")"
   ]
  },
  {
   "cell_type": "code",
   "execution_count": 44,
   "id": "ad77204a",
   "metadata": {},
   "outputs": [],
   "source": [
    "conn.rollback()\n",
    "try:\n",
    "    for i, row in iq_data.iterrows():\n",
    "        cur.execute(iq_tableInsert, list(row))\n",
    "except psycopg2.Error as e:\n",
    "    print(\"Error: Cannot insert\")\n",
    "    print(e)"
   ]
  },
  {
   "cell_type": "code",
   "execution_count": 46,
   "id": "93fba24d",
   "metadata": {},
   "outputs": [],
   "source": [
    "conn.commit()"
   ]
  },
  {
   "cell_type": "code",
   "execution_count": 47,
   "id": "83d17b5c",
   "metadata": {},
   "outputs": [],
   "source": [
    "life_expectancy_tableInsert = (\"\"\"INSERT INTO lifeExpectancy(\n",
    "country,\n",
    "male_life_expectancy,\n",
    "female_life_expectancy,\n",
    "birth_rate,\n",
    "death_rate)\n",
    "VALUES(%s, %s, %s, %s, %s)\n",
    "\"\"\")"
   ]
  },
  {
   "cell_type": "code",
   "execution_count": 48,
   "id": "a629b487",
   "metadata": {},
   "outputs": [],
   "source": [
    "try:\n",
    "    for i, row in life_expectancy.iterrows():\n",
    "        cur.execute(life_expectancy_tableInsert, list(row))\n",
    "except psycopg2.Error as e:\n",
    "    print(\"Error: Cannot insert\")\n",
    "    print(e)"
   ]
  },
  {
   "cell_type": "code",
   "execution_count": 49,
   "id": "4478196f",
   "metadata": {},
   "outputs": [],
   "source": [
    "conn.commit()"
   ]
  }
 ],
 "metadata": {
  "kernelspec": {
   "display_name": "Python 3.10.6 64-bit",
   "language": "python",
   "name": "python3"
  },
  "language_info": {
   "codemirror_mode": {
    "name": "ipython",
    "version": 3
   },
   "file_extension": ".py",
   "mimetype": "text/x-python",
   "name": "python",
   "nbconvert_exporter": "python",
   "pygments_lexer": "ipython3",
   "version": "3.10.6"
  },
  "vscode": {
   "interpreter": {
    "hash": "df95319d8ce4e1d89f5365ae10992bc1f65da593082b1d264e8f529830ec2f02"
   }
  }
 },
 "nbformat": 4,
 "nbformat_minor": 5
}
