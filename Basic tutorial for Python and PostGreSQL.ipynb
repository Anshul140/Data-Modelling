{
 "cells": [
  {
   "cell_type": "code",
   "execution_count": 3,
   "id": "fffe1dcf",
   "metadata": {},
   "outputs": [
    {
     "name": "stdout",
     "output_type": "stream",
     "text": [
      "Requirement already satisfied: psycopg2 in c:\\users\\user\\appdata\\local\\programs\\python\\python310\\lib\\site-packages (2.9.3)\n",
      "Note: you may need to restart the kernel to use updated packages.\n"
     ]
    },
    {
     "name": "stderr",
     "output_type": "stream",
     "text": [
      "\n",
      "[notice] A new release of pip available: 22.2.1 -> 22.2.2\n",
      "[notice] To update, run: python.exe -m pip install --upgrade pip\n"
     ]
    }
   ],
   "source": [
    "pip install psycopg2"
   ]
  },
  {
   "cell_type": "code",
   "execution_count": 4,
   "id": "e555a0db",
   "metadata": {},
   "outputs": [],
   "source": [
    "import psycopg2\n",
    "import numpy as np\n",
    "import pandas as pd"
   ]
  },
  {
   "cell_type": "markdown",
   "id": "ec11fba5",
   "metadata": {},
   "source": [
    "### Create connection to database"
   ]
  },
  {
   "cell_type": "code",
   "execution_count": 5,
   "id": "60676df5",
   "metadata": {},
   "outputs": [],
   "source": [
    "try:\n",
    "    conn = psycopg2.connect(\"host=127.0.0.1 dbname=postgres user=postgres password=Anshul@61\")\n",
    "except psycopg2.Error as e:\n",
    "    print(\"Error: Could not make connection to Postgres DB\")\n",
    "    print(e)"
   ]
  },
  {
   "cell_type": "markdown",
   "id": "c8cecdfb",
   "metadata": {},
   "source": [
    "### Use the connection to get a cursor that can be used to execute queries"
   ]
  },
  {
   "cell_type": "code",
   "execution_count": 6,
   "id": "56f13414",
   "metadata": {},
   "outputs": [],
   "source": [
    "try:\n",
    "    cur = conn.cursor()\n",
    "except psycopg2.Error as e:\n",
    "    print(\"Error: Could not get cursor to the database\")\n",
    "    print(e)"
   ]
  },
  {
   "cell_type": "markdown",
   "id": "e97c3b07",
   "metadata": {},
   "source": [
    "### Set automatic commit to be true so that each action is committed without having to call conn.commit() after each command"
   ]
  },
  {
   "cell_type": "code",
   "execution_count": 7,
   "id": "1b278ca8",
   "metadata": {},
   "outputs": [],
   "source": [
    "conn.set_session(autocommit=True)"
   ]
  },
  {
   "cell_type": "markdown",
   "id": "ef3c5041",
   "metadata": {},
   "source": [
    "### create a DB to work in"
   ]
  },
  {
   "cell_type": "code",
   "execution_count": 8,
   "id": "17008b3f",
   "metadata": {},
   "outputs": [
    {
     "name": "stdout",
     "output_type": "stream",
     "text": [
      "database \"myfirstdb\" already exists\n",
      "\n"
     ]
    }
   ],
   "source": [
    "try:\n",
    "    cur.execute(\"create database myfirstDB\")\n",
    "except psycopg2.Error as e:\n",
    "    print(e)"
   ]
  },
  {
   "cell_type": "markdown",
   "id": "f1a2c741",
   "metadata": {},
   "source": [
    "### Add the db name to connect statement, close the connection of default DB, reconnect the new DB"
   ]
  },
  {
   "cell_type": "code",
   "execution_count": 11,
   "id": "30529ae4",
   "metadata": {},
   "outputs": [],
   "source": [
    "try:\n",
    "    conn.close()\n",
    "except psycopg2.Error as e:\n",
    "    print(e) \n",
    "    \n",
    "try:\n",
    "    conn = psycopg2.connect(\"host=127.0.0.1 dbname=myfirstdb user=postgres password=Anshul@61\")\n",
    "except psycopg2.Error as e:\n",
    "    print(\"Error: Could not make connection to Postgres DB\")\n",
    "    print(e)        \n",
    "    \n",
    "try:\n",
    "    cur = conn.cursor()\n",
    "except psycopg2.Error as e:\n",
    "    print(\"Error: Could not get cursor to the database\")\n",
    "    print(e)  \n",
    "    \n",
    "conn.set_session(autocommit=True)    "
   ]
  },
  {
   "cell_type": "markdown",
   "id": "ad4b972f",
   "metadata": {},
   "source": [
    "### Create table for students which includes below columns\n",
    "#### student_id, name, age, gender, subject, marks"
   ]
  },
  {
   "cell_type": "code",
   "execution_count": 13,
   "id": "7c0f025f",
   "metadata": {},
   "outputs": [],
   "source": [
    "try:\n",
    "    cur.execute(\"CREATE TABLE IF NOT EXISTS students (student_id int, name varchar, age int, gender varchar, subject varchar, marks int);\")\n",
    "except psycopg2.Error as e:\n",
    "    print(\"Error: could not create table\")\n",
    "    print(e)"
   ]
  },
  {
   "cell_type": "markdown",
   "id": "b0faf62f",
   "metadata": {},
   "source": [
    "### Insert two rows in the table "
   ]
  },
  {
   "cell_type": "code",
   "execution_count": 41,
   "id": "59d7124b",
   "metadata": {},
   "outputs": [],
   "source": [
    "try:\n",
    "    cur.execute(\"INSERT INTO students (student_id, name, age, gender, subject, marks) VALUES (%s, %s, %s, %s, %s, %s)\", (1, \"Sameer\", 22, \"Male\", \"Python\", 87))\n",
    "except psycopg2.Error as e:\n",
    "    print(\"Error: inserting rows\")\n",
    "    print(e)\n",
    "    \n",
    "try:\n",
    "    cur.execute(\"INSERT INTO students (student_id, name, age, gender, subject, marks) VALUES (%s, %s, %s, %s, %s, %s)\", (2, \"Rajveer\", 22, \"Male\", \"Java\", 85))\n",
    "except psycopg2.Error as e:\n",
    "    print(\"Error: inserting rows\")\n",
    "    print(e)    \n",
    "    "
   ]
  },
  {
   "cell_type": "code",
   "execution_count": 42,
   "id": "266233a2",
   "metadata": {},
   "outputs": [
    {
     "name": "stdout",
     "output_type": "stream",
     "text": [
      "(1, 'Sameer', '22', 'Male', 'Python', 87)\n",
      "(2, 'Rajveer', '22', 'Male', 'Java', 85)\n"
     ]
    }
   ],
   "source": [
    "try:\n",
    "    cur.execute(\"SELECT * from students;\")\n",
    "except psycopg2.Error as e:\n",
    "    print(\"Error: Displaying Rows\")\n",
    "    print(e)\n",
    "    \n",
    "row = cur.fetchone()\n",
    "while row:\n",
    "    print(row)\n",
    "    row = cur.fetchone()"
   ]
  },
  {
   "cell_type": "markdown",
   "id": "ea19f3f0",
   "metadata": {},
   "source": [
    "### close the connection"
   ]
  },
  {
   "cell_type": "code",
   "execution_count": 44,
   "id": "65dd7eb4",
   "metadata": {},
   "outputs": [],
   "source": [
    "cur.close()\n",
    "conn.close()"
   ]
  },
  {
   "cell_type": "code",
   "execution_count": null,
   "id": "fc1115fc",
   "metadata": {},
   "outputs": [],
   "source": []
  }
 ],
 "metadata": {
  "kernelspec": {
   "display_name": "Python 3.10.6 64-bit",
   "language": "python",
   "name": "python3"
  },
  "language_info": {
   "codemirror_mode": {
    "name": "ipython",
    "version": 3
   },
   "file_extension": ".py",
   "mimetype": "text/x-python",
   "name": "python",
   "nbconvert_exporter": "python",
   "pygments_lexer": "ipython3",
   "version": "3.10.6"
  },
  "vscode": {
   "interpreter": {
    "hash": "df95319d8ce4e1d89f5365ae10992bc1f65da593082b1d264e8f529830ec2f02"
   }
  }
 },
 "nbformat": 4,
 "nbformat_minor": 5
}
